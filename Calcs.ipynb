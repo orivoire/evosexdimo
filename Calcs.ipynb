{
 "cells": [
  {
   "cell_type": "markdown",
   "metadata": {},
   "source": [
    "# Calculations"
   ]
  },
  {
   "cell_type": "code",
   "execution_count": 1,
   "metadata": {},
   "outputs": [],
   "source": [
    "using PyPlot, Random, StatsBase, Distributions \n",
    "include(\"./evodi.jl\"); using .evodi"
   ]
  },
  {
   "cell_type": "code",
   "execution_count": 2,
   "metadata": {},
   "outputs": [],
   "source": [
    "# parameters\n",
    "c = 0.1\n",
    "s2M = 0.1\n",
    "s2V = 0.01\n",
    "kstar = .5\n",
    "kappa_init = 0.25\n",
    "K_values = [10^i for i in range(2,stop=3,length=10)]\n",
    "\n",
    "T = 10000\n",
    "N = 1000\n",
    "tau = 500\n",
    "Nstat = 25"
   ]
  },
  {
   "cell_type": "markdown",
   "metadata": {},
   "source": [
    "## Figure 1"
   ]
  },
  {
   "cell_type": "code",
   "execution_count": 3,
   "metadata": {},
   "outputs": [],
   "source": [
    "kf_values = [0,.5]\n",
    "km_values = 0:0.1:.5\n",
    "filename = \"data_fig1A\"\n",
    "evodi.simu_Lambda_write(c, s2M, kf_values, km_values, T, N, Nstat, filename)"
   ]
  },
  {
   "cell_type": "markdown",
   "metadata": {},
   "source": [
    "## Figure 2"
   ]
  },
  {
   "cell_type": "code",
   "execution_count": 4,
   "metadata": {},
   "outputs": [],
   "source": [
    "K_range = [100, 300, 600]\n",
    "\n",
    "Random.seed!(123);\n",
    "results = Dict()\n",
    "for (k,max_size) in enumerate(K_range)\n",
    "    for i = 1:Nstat\n",
    "        results[k,i] = evodi.run_dyn(c, kappa_init, s2M, s2V, N, T, tau, max_size=max_size)\n",
    "    end\n",
    "end\n",
    "\n",
    "filename = \"data_fig2ABC\"\n",
    "open(\"_Outputs/\"*filename*\".txt\", \"w\") do f\n",
    "    for (key,values) in results\n",
    "        write(f,\"$(key[1]) $(key[2])\")\n",
    "        for v in values\n",
    "            write(f, \" $v\")\n",
    "        end\n",
    "        write(f, \"\\n\")\n",
    "    end\n",
    "end"
   ]
  },
  {
   "cell_type": "code",
   "execution_count": 5,
   "metadata": {},
   "outputs": [],
   "source": [
    "filename = \"data_fig2D\"\n",
    "Random.seed!(123);\n",
    "evodi.simu_kappa_write(c, s2M, s2V, K_values, N, T, tau, kappa_init, Nstat, filename)"
   ]
  },
  {
   "cell_type": "code",
   "execution_count": 6,
   "metadata": {},
   "outputs": [],
   "source": [
    "qmale = 8\n",
    "filename = \"data_fig2E\"\n",
    "Random.seed!(123);\n",
    "@time evodi.simu_kappa_write(c, s2M, s2V, K_values, N, T, tau, kappa_init, Nstat, filename, qmale=qmale)"
   ]
  },
  {
   "cell_type": "code",
   "execution_count": 7,
   "metadata": {},
   "outputs": [],
   "source": [
    "qmale = 4\n",
    "filename = \"data_fig2F\"\n",
    "Random.seed!(123);\n",
    "@time evodi.simu_kappa_write(c, s2M, s2V, K_values, N, T, tau, kappa_init, Nstat, filename, qmale=qmale)"
   ]
  },
  {
   "cell_type": "markdown",
   "metadata": {},
   "source": [
    "## Figure 3"
   ]
  },
  {
   "cell_type": "code",
   "execution_count": 8,
   "metadata": {},
   "outputs": [],
   "source": [
    "Random.seed!(123);\n",
    "c_range = 0:0.02:.15\n",
    "DL_values, DL_err = zeros(length(c_range)), zeros(length(c_range))\n",
    "for (j,c) in enumerate(c_range)\n",
    "    Lkmkmin,  Lkmkmin_err  = evodi.simu_Lambda(kstar, 0., s2M, c, N, T, Nstat)\n",
    "    Lkmkstar, Lkmkstar_err = evodi.simu_Lambda(kstar, kstar, s2M, c, N, T, Nstat)\n",
    "    DL_values[j], DL_err[j] = Lkmkmin - Lkmkstar, Lkmkmin_err + Lkmkstar_err\n",
    "end\n",
    "\n",
    "filename = \"data_fig3A1\"\n",
    "open(\"_Outputs/\"*filename*\".txt\", \"w\") do f\n",
    "    for (i,c) in enumerate(c_range)\n",
    "        write(f,\"$(c) $(DL_values[i])  $(DL_err[i])\\n\")\n",
    "    end\n",
    "end"
   ]
  },
  {
   "cell_type": "code",
   "execution_count": 9,
   "metadata": {},
   "outputs": [],
   "source": [
    "Random.seed!(123);\n",
    "c_range = 0:0.02:.2\n",
    "\n",
    "L_values, L_err = zeros(length(c_range)), zeros(length(c_range))\n",
    "for (i,c) in enumerate(c_range)\n",
    "    L_values[i], L_err[i] = evodi.simu_Lambda(kstar, 0., s2M, c, N, T, Nstat, chi_male=true)\n",
    "end\n",
    "\n",
    "filename = \"data_fig3A2\"\n",
    "open(\"_Outputs/\"*filename*\".txt\", \"w\") do f\n",
    "    for (i,c) in enumerate(c_range)\n",
    "        write(f,\"$(c) $(L_values[i])  $(L_err[i])\\n\")\n",
    "    end\n",
    "end"
   ]
  },
  {
   "cell_type": "markdown",
   "metadata": {},
   "source": [
    "## Figure S1"
   ]
  },
  {
   "cell_type": "code",
   "execution_count": 10,
   "metadata": {},
   "outputs": [],
   "source": [
    "N_values = [500, 1000, 2000, 4000, 8000]\n",
    "\n",
    "Random.seed!(123);\n",
    "for N in N_values\n",
    "    filename = \"data_figS1_$(N)\"\n",
    "    evodi.simu_kappa_write(c, s2M, s2V, K_values, N, T, tau, kappa_init, Nstat, filename)\n",
    "end"
   ]
  },
  {
   "cell_type": "code",
   "execution_count": 11,
   "metadata": {},
   "outputs": [],
   "source": [
    "s2V_values = [0.005, 0.01, 0.02, 0.04, 0.08]\n",
    "\n",
    "Random.seed!(123);\n",
    "for s2V in s2V_values\n",
    "    filename = \"data_figS1_$(s2V)\"\n",
    "    evodi.simu_kappa_write(c, s2M, s2V, K_values, N, T, tau, kappa_init, Nstat, filename)\n",
    "end"
   ]
  },
  {
   "cell_type": "markdown",
   "metadata": {},
   "source": [
    "## Figure S2"
   ]
  },
  {
   "cell_type": "code",
   "execution_count": 12,
   "metadata": {},
   "outputs": [],
   "source": [
    "s2e_values = [0., 0.1, 1.]\n",
    "K_values = [10^i for i in range(2,stop=3,length=10)]\n",
    "kappa_init = 0.25\n",
    "\n",
    "Random.seed!(123);\n",
    "for s2e in s2e_values\n",
    "    filename = \"data_figS2_$(s2e)\"\n",
    "   evodi.simu_kappa_write(c, s2M, s2V, K_values, N, T, tau, kappa_init, Nstat, filename, σ2e=s2e)\n",
    "end"
   ]
  },
  {
   "cell_type": "markdown",
   "metadata": {},
   "source": [
    "## Figure S3"
   ]
  },
  {
   "cell_type": "code",
   "execution_count": 13,
   "metadata": {},
   "outputs": [],
   "source": [
    "function simu_kappa_write_mu(c, s2M, s2V, K, N, T, tau, kappa, Nstat, prog_mig_values, u_soft_values,\n",
    "                                filename; qmale=Inf, σ2e=0., mig_before_sampling=false, mig_after_sampling=false)\n",
    "    open(\"_Outputs/\"*filename*\".txt\", \"w\") do f\n",
    "        write(f,\"c s2M s2V K m u N T kf km\\n\")\n",
    "        for prob_mig in prog_mig_values\n",
    "            for u_soft in u_soft_values\n",
    "                for s in 1:Nstat\n",
    "                    res = evodi.run_dyn(c, kappa, s2M, s2V, N, T, tau, max_size=K, qmale=qmale, σ2e=σ2e,\n",
    "                            prob_mig=prob_mig, u_soft=u_soft,\n",
    "                            mig_before_sampling=mig_before_sampling, mig_after_sampling=mig_after_sampling)\n",
    "                    for n = 1:floor(Int, T/tau)\n",
    "                        kf, km = round.(res[1:2,n+1], digits=4)\n",
    "                        write(f,\"$c $(s2M) $(s2V) $K $(prob_mig) $(u_soft) $N $(n*tau) $(kf) $(km)\\n\")\n",
    "                    end\n",
    "                end\n",
    "            end\n",
    "        end\n",
    "    end\n",
    "end"
   ]
  },
  {
   "cell_type": "code",
   "execution_count": 14,
   "metadata": {},
   "outputs": [],
   "source": [
    "K = 100\n",
    "u_soft_values = [10^i for i in range(-1,stop=0,length=10)]\n",
    "prob_mig_values = [0]\n",
    "\n",
    "filename = \"data_figS3A\"\n",
    "res_kf, res_km = simu_kappa_read_usoft(filename, K, T, Nstat, u_soft_values)"
   ]
  },
  {
   "cell_type": "code",
   "execution_count": 15,
   "metadata": {},
   "outputs": [],
   "source": [
    "K = 100\n",
    "u_soft_values = [10^i for i in range(-1,stop=0,length=10)]\n",
    "prob_mig_values = [0]\n",
    "\n",
    "filename = \"data_figS3A\"\n",
    "res_kf, res_km = simu_kappa_read_usoft(filename, K, T, Nstat, u_soft_values)"
   ]
  },
  {
   "cell_type": "code",
   "execution_count": 16,
   "metadata": {},
   "outputs": [],
   "source": [
    "K = 100\n",
    "u_soft_values = [0]\n",
    "prob_mig_values = [10^i for i in range(-3,stop=-1,length=10)]\n",
    "\n",
    "filename = \"data_figS3B\"\n",
    "Random.seed!(123);\n",
    "@time simu_kappa_write_mu(c, s2M, s2V, K, N, T, tau, kappa_init, Nstat, prob_mig_values, u_soft_values, \n",
    "                          filename, mig_after_sampling=true)"
   ]
  },
  {
   "cell_type": "code",
   "execution_count": 17,
   "metadata": {},
   "outputs": [],
   "source": [
    "K = 100\n",
    "u_soft_values = [10^i for i in range(-1,stop=0,length=5)]\n",
    "prob_mig_values = [10^i for i in range(-3,stop=-1,length=5)]\n",
    "\n",
    "filename = \"data_fig3C\"\n",
    "Random.seed!(123);\n",
    "@time simu_kappa_write_mu(c, s2M, s2V, K, N, T, tau, kappa_init, Nstat, prob_mig_values, u_soft_values, \n",
    "                          filename, mig_after_sampling=true)"
   ]
  }
 ],
 "metadata": {
  "kernelspec": {
   "display_name": "Julia 1.6.2",
   "language": "julia",
   "name": "julia-1.6"
  },
  "language_info": {
   "file_extension": ".jl",
   "mimetype": "application/julia",
   "name": "julia",
   "version": "1.6.2"
  },
  "latex_envs": {
   "LaTeX_envs_menu_present": true,
   "autoclose": false,
   "autocomplete": true,
   "bibliofile": "biblio.bib",
   "cite_by": "apalike",
   "current_citInitial": 1,
   "eqLabelWithNumbers": true,
   "eqNumInitial": 1,
   "hotkeys": {
    "equation": "Ctrl-E",
    "itemize": "Ctrl-I"
   },
   "labels_anchors": false,
   "latex_user_defs": false,
   "report_style_numbering": false,
   "user_envs_cfg": false
  },
  "toc": {
   "base_numbering": 1,
   "nav_menu": {},
   "number_sections": false,
   "sideBar": true,
   "skip_h1_title": true,
   "title_cell": "Table of Contents",
   "title_sidebar": "Contents",
   "toc_cell": false,
   "toc_position": {},
   "toc_section_display": true,
   "toc_window_display": false
  }
 },
 "nbformat": 4,
 "nbformat_minor": 4
}
