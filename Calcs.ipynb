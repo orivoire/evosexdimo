{
 "cells": [
  {
   "cell_type": "markdown",
   "metadata": {},
   "source": [
    "# Calculations"
   ]
  },
  {
   "cell_type": "code",
   "execution_count": 1,
   "metadata": {},
   "outputs": [
    {
     "name": "stderr",
     "output_type": "stream",
     "text": [
      "┌ Warning: PyPlot is using tkagg backend, which is known to cause crashes on MacOS (#410); use the MPLBACKEND environment variable to request a different backend.\n",
      "└ @ PyPlot /Users/olivier.rivoire/.julia/packages/PyPlot/XHEG0/src/init.jl:192\n"
     ]
    }
   ],
   "source": [
    "using PyPlot, Random, StatsBase, Distributions \n",
    "include(\"./evodi.jl\"); using .evodi"
   ]
  },
  {
   "cell_type": "code",
   "execution_count": 2,
   "metadata": {},
   "outputs": [
    {
     "data": {
      "text/plain": [
       "25"
      ]
     },
     "execution_count": 2,
     "metadata": {},
     "output_type": "execute_result"
    }
   ],
   "source": [
    "# parameters\n",
    "c = 0.1\n",
    "s2M = 0.1\n",
    "s2V = 0.01\n",
    "kstar = .5\n",
    "kappa_init = 0.25\n",
    "K_values = [10^i for i in range(2,stop=3,length=10)]\n",
    "\n",
    "T = 10000\n",
    "N = 1000\n",
    "tau = 500\n",
    "Nstat = 25"
   ]
  },
  {
   "cell_type": "markdown",
   "metadata": {},
   "source": [
    "## Figure 1"
   ]
  },
  {
   "cell_type": "code",
   "execution_count": 3,
   "metadata": {},
   "outputs": [
    {
     "name": "stdout",
     "output_type": "stream",
     "text": [
      "6766.667169 seconds (83.32 G allocations: 2.769 TiB, 2.74% gc time, 0.04% compilation time)\n"
     ]
    }
   ],
   "source": [
    "kf_values = [0,.5]\n",
    "km_values = 0:0.1:.5\n",
    "filename = \"data_fig1A\"\n",
    "@time evodi.simu_Lambda_write(c, s2M, kf_values, km_values, T, N, Nstat, filename)"
   ]
  },
  {
   "cell_type": "markdown",
   "metadata": {},
   "source": [
    "## Figure 2"
   ]
  },
  {
   "cell_type": "code",
   "execution_count": 4,
   "metadata": {},
   "outputs": [],
   "source": [
    "K_range = [100, 300, 600]\n",
    "\n",
    "Random.seed!(123);\n",
    "results = Dict()\n",
    "for (k,max_size) in enumerate(K_range)\n",
    "    for i = 1:Nstat\n",
    "        results[k,i] = evodi.run_dyn(c, kappa_init, s2M, s2V, N, T, tau, max_size=max_size)\n",
    "    end\n",
    "end\n",
    "\n",
    "filename = \"data_fig2ABC\"\n",
    "open(\"_Outputs/\"*filename*\".txt\", \"w\") do f\n",
    "    for (key,values) in results\n",
    "        write(f,\"$(key[1]) $(key[2])\")\n",
    "        for v in values\n",
    "            write(f, \" $v\")\n",
    "        end\n",
    "        write(f, \"\\n\")\n",
    "    end\n",
    "end"
   ]
  },
  {
   "cell_type": "code",
   "execution_count": 5,
   "metadata": {},
   "outputs": [
    {
     "name": "stdout",
     "output_type": "stream",
     "text": [
      "5931.512659 seconds (71.71 G allocations: 2.873 TiB, 3.57% gc time, 0.01% compilation time)\n"
     ]
    }
   ],
   "source": [
    "filename = \"data_fig2D\"\n",
    "Random.seed!(123);\n",
    "@time evodi.simu_kappa_write(c, s2M, s2V, K_values, N, T, tau, kappa_init, Nstat, filename)"
   ]
  },
  {
   "cell_type": "code",
   "execution_count": 6,
   "metadata": {},
   "outputs": [
    {
     "name": "stdout",
     "output_type": "stream",
     "text": [
      "6031.865927 seconds (68.27 G allocations: 2.846 TiB, 3.89% gc time, 0.01% compilation time)\n"
     ]
    }
   ],
   "source": [
    "qmale = 8\n",
    "\n",
    "filename = \"data_fig2E\"\n",
    "Random.seed!(123);\n",
    "@time evodi.simu_kappa_write(c, s2M, s2V, K_values, N, T, tau, kappa_init, Nstat, filename, qmale=qmale)"
   ]
  },
  {
   "cell_type": "code",
   "execution_count": 7,
   "metadata": {},
   "outputs": [
    {
     "name": "stdout",
     "output_type": "stream",
     "text": [
      "5139.672835 seconds (54.93 G allocations: 2.415 TiB, 4.10% gc time)\n"
     ]
    }
   ],
   "source": [
    "qmale = 4\n",
    "\n",
    "filename = \"data_fig2F\"\n",
    "Random.seed!(123);\n",
    "@time evodi.simu_kappa_write(c, s2M, s2V, K_values, N, T, tau, kappa_init, Nstat, filename, qmale=qmale)"
   ]
  },
  {
   "cell_type": "markdown",
   "metadata": {},
   "source": [
    "## Figure 3"
   ]
  },
  {
   "cell_type": "code",
   "execution_count": 8,
   "metadata": {},
   "outputs": [],
   "source": [
    "Random.seed!(123);\n",
    "c_range = 0:0.02:.15\n",
    "DL_values, DL_err = zeros(length(c_range)), zeros(length(c_range))\n",
    "for (j,c) in enumerate(c_range)\n",
    "    Lkmkmin,  Lkmkmin_err  = evodi.simu_Lambda(kstar, 0., s2M, c, N, T, Nstat)\n",
    "    Lkmkstar, Lkmkstar_err = evodi.simu_Lambda(kstar, kstar, s2M, c, N, T, Nstat)\n",
    "    DL_values[j], DL_err[j] = Lkmkmin - Lkmkstar, Lkmkmin_err + Lkmkstar_err\n",
    "end\n",
    "\n",
    "filename = \"data_fig3A1\"\n",
    "open(\"_Outputs/\"*filename*\".txt\", \"w\") do f\n",
    "    for (i,c) in enumerate(c_range)\n",
    "        write(f,\"$(c) $(DL_values[i])  $(DL_err[i])\\n\")\n",
    "    end\n",
    "end"
   ]
  },
  {
   "cell_type": "code",
   "execution_count": 9,
   "metadata": {},
   "outputs": [],
   "source": [
    "Random.seed!(123);\n",
    "c_range = 0:0.02:.2\n",
    "\n",
    "L_values, L_err = zeros(length(c_range)), zeros(length(c_range))\n",
    "for (i,c) in enumerate(c_range)\n",
    "    L_values[i], L_err[i] = evodi.simu_Lambda(kstar, 0., s2M, c, N, T, Nstat, chi_male=true)\n",
    "end\n",
    "\n",
    "filename = \"data_fig3A2\"\n",
    "open(\"_Outputs/\"*filename*\".txt\", \"w\") do f\n",
    "    for (i,c) in enumerate(c_range)\n",
    "        write(f,\"$(c) $(L_values[i])  $(L_err[i])\\n\")\n",
    "    end\n",
    "end"
   ]
  },
  {
   "cell_type": "markdown",
   "metadata": {},
   "source": [
    "## Figure S1"
   ]
  },
  {
   "cell_type": "code",
   "execution_count": null,
   "metadata": {},
   "outputs": [],
   "source": [
    "N_values = [500, 1000, 2000, 4000, 8000]\n",
    "K_values_more = [.5*10^i for i in range(2,stop=3.6,length=15)]\n",
    "\n",
    "Random.seed!(123);\n",
    "for N in N_values\n",
    "    filename = \"data_figS1_$(N)\"\n",
    "    @time evodi.simu_kappa_write(c, s2M, s2V, K_values, N, T, tau, kappa_init, Nstat, filename)\n",
    "end"
   ]
  },
  {
   "cell_type": "code",
   "execution_count": null,
   "metadata": {},
   "outputs": [
    {
     "name": "stdout",
     "output_type": "stream",
     "text": [
      "6431.913538 seconds (73.19 G allocations: 2.913 TiB, 4.38% gc time)\n",
      "6426.802663 seconds (71.42 G allocations: 2.864 TiB, 5.09% gc time)\n",
      "6351.987553 seconds (69.71 G allocations: 2.817 TiB, 5.46% gc time)\n"
     ]
    }
   ],
   "source": [
    "s2V_values = [0.005, 0.01, 0.02, 0.04, 0.08]\n",
    "\n",
    "Random.seed!(123);\n",
    "for s2V in s2V_values\n",
    "    filename = \"data_figS1_$(s2V)\"\n",
    "    @time evodi.simu_kappa_write(c, s2M, s2V, K_values, N, T, tau, kappa_init, Nstat, filename)\n",
    "end"
   ]
  },
  {
   "cell_type": "markdown",
   "metadata": {},
   "source": [
    "## Figure S2"
   ]
  },
  {
   "cell_type": "code",
   "execution_count": null,
   "metadata": {},
   "outputs": [],
   "source": [
    "s2e_values = [0., 0.1, 1.]\n",
    "K_values = [10^i for i in range(2,stop=3,length=10)]\n",
    "kappa_init = 0.25\n",
    "\n",
    "Random.seed!(123);\n",
    "for s2e in s2e_values\n",
    "    filename = \"data_figS2_$(s2e)\"\n",
    "    @time evodi.simu_kappa_write(c, s2M, s2V, K_values, N, T, tau, kappa_init, Nstat, filename, σ2e=s2e)\n",
    "end"
   ]
  }
 ],
 "metadata": {
  "kernelspec": {
   "display_name": "Julia 1.6.2",
   "language": "julia",
   "name": "julia-1.6"
  },
  "language_info": {
   "file_extension": ".jl",
   "mimetype": "application/julia",
   "name": "julia",
   "version": "1.6.2"
  },
  "latex_envs": {
   "LaTeX_envs_menu_present": true,
   "autoclose": false,
   "autocomplete": true,
   "bibliofile": "biblio.bib",
   "cite_by": "apalike",
   "current_citInitial": 1,
   "eqLabelWithNumbers": true,
   "eqNumInitial": 1,
   "hotkeys": {
    "equation": "Ctrl-E",
    "itemize": "Ctrl-I"
   },
   "labels_anchors": false,
   "latex_user_defs": false,
   "report_style_numbering": false,
   "user_envs_cfg": false
  },
  "toc": {
   "base_numbering": 1,
   "nav_menu": {},
   "number_sections": false,
   "sideBar": true,
   "skip_h1_title": true,
   "title_cell": "Table of Contents",
   "title_sidebar": "Contents",
   "toc_cell": false,
   "toc_position": {},
   "toc_section_display": true,
   "toc_window_display": false
  }
 },
 "nbformat": 4,
 "nbformat_minor": 2
}
